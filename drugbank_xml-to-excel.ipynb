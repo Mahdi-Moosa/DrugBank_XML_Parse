{
 "cells": [
  {
   "cell_type": "code",
   "execution_count": 1,
   "id": "03b855e6",
   "metadata": {},
   "outputs": [
    {
     "name": "stdout",
     "output_type": "stream",
     "text": [
      "File read to xml_dict.\n"
     ]
    }
   ],
   "source": [
    "import xmltodict\n",
    "import pandas as pd\n",
    "\n",
    "with open('full database.xml', 'r', encoding=\"utf-8\") as file:\n",
    "    xml_dict = xmltodict.parse(file.read())\n",
    "\n",
    "print('File read to xml_dict.')"
   ]
  },
  {
   "cell_type": "code",
   "execution_count": 2,
   "id": "c4f04e4f",
   "metadata": {},
   "outputs": [
    {
     "name": "stdout",
     "output_type": "stream",
     "text": [
      "Data read into pandas dataframe.\n"
     ]
    },
    {
     "data": {
      "text/plain": [
       "Index(['@type', '@created', '@updated', 'drugbank-id', 'name', 'description',\n",
       "       'cas-number', 'unii', 'state', 'groups', 'general-references',\n",
       "       'synthesis-reference', 'indication', 'pharmacodynamics',\n",
       "       'mechanism-of-action', 'toxicity', 'metabolism', 'absorption',\n",
       "       'half-life', 'protein-binding', 'route-of-elimination',\n",
       "       'volume-of-distribution', 'clearance', 'classification', 'salts',\n",
       "       'synonyms', 'products', 'international-brands', 'mixtures', 'packagers',\n",
       "       'manufacturers', 'prices', 'categories', 'affected-organisms',\n",
       "       'dosages', 'atc-codes', 'ahfs-codes', 'pdb-entries', 'patents',\n",
       "       'food-interactions', 'drug-interactions', 'sequences',\n",
       "       'experimental-properties', 'external-identifiers', 'external-links',\n",
       "       'pathways', 'reactions', 'snp-effects', 'snp-adverse-drug-reactions',\n",
       "       'targets', 'enzymes', 'carriers', 'transporters', 'fda-label', 'msds',\n",
       "       'average-mass', 'monoisotopic-mass', 'calculated-properties'],\n",
       "      dtype='object')"
      ]
     },
     "execution_count": 2,
     "metadata": {},
     "output_type": "execute_result"
    }
   ],
   "source": [
    "drug_df = pd.DataFrame(xml_dict['drugbank']['drug'])\n",
    "print('Data read into pandas dataframe.')\n",
    "drug_df.columns"
   ]
  },
  {
   "cell_type": "code",
   "execution_count": 3,
   "id": "01a18609",
   "metadata": {},
   "outputs": [
    {
     "data": {
      "text/html": [
       "<div>\n",
       "<style scoped>\n",
       "    .dataframe tbody tr th:only-of-type {\n",
       "        vertical-align: middle;\n",
       "    }\n",
       "\n",
       "    .dataframe tbody tr th {\n",
       "        vertical-align: top;\n",
       "    }\n",
       "\n",
       "    .dataframe thead th {\n",
       "        text-align: right;\n",
       "    }\n",
       "</style>\n",
       "<table border=\"1\" class=\"dataframe\">\n",
       "  <thead>\n",
       "    <tr style=\"text-align: right;\">\n",
       "      <th></th>\n",
       "      <th>@type</th>\n",
       "      <th>@created</th>\n",
       "      <th>@updated</th>\n",
       "      <th>drugbank-id</th>\n",
       "      <th>name</th>\n",
       "      <th>description</th>\n",
       "      <th>cas-number</th>\n",
       "      <th>unii</th>\n",
       "      <th>state</th>\n",
       "      <th>groups</th>\n",
       "      <th>...</th>\n",
       "      <th>snp-adverse-drug-reactions</th>\n",
       "      <th>targets</th>\n",
       "      <th>enzymes</th>\n",
       "      <th>carriers</th>\n",
       "      <th>transporters</th>\n",
       "      <th>fda-label</th>\n",
       "      <th>msds</th>\n",
       "      <th>average-mass</th>\n",
       "      <th>monoisotopic-mass</th>\n",
       "      <th>calculated-properties</th>\n",
       "    </tr>\n",
       "  </thead>\n",
       "  <tbody>\n",
       "    <tr>\n",
       "      <th>0</th>\n",
       "      <td>biotech</td>\n",
       "      <td>2005-06-13</td>\n",
       "      <td>2024-01-02</td>\n",
       "      <td>[{'@primary': 'true', '#text': 'DB00001'}, BTD...</td>\n",
       "      <td>Lepirudin</td>\n",
       "      <td>Lepirudin is a recombinant hirudin formed by 6...</td>\n",
       "      <td>138068-37-8</td>\n",
       "      <td>Y43GF64R34</td>\n",
       "      <td>solid</td>\n",
       "      <td>{'group': ['approved', 'withdrawn']}</td>\n",
       "      <td>...</td>\n",
       "      <td>None</td>\n",
       "      <td>{'target': {'@position': '1', 'id': 'BE0000048...</td>\n",
       "      <td>None</td>\n",
       "      <td>None</td>\n",
       "      <td>None</td>\n",
       "      <td>NaN</td>\n",
       "      <td>NaN</td>\n",
       "      <td>NaN</td>\n",
       "      <td>NaN</td>\n",
       "      <td>NaN</td>\n",
       "    </tr>\n",
       "    <tr>\n",
       "      <th>1</th>\n",
       "      <td>biotech</td>\n",
       "      <td>2005-06-13</td>\n",
       "      <td>2024-01-02</td>\n",
       "      <td>[{'@primary': 'true', '#text': 'DB00002'}, BTD...</td>\n",
       "      <td>Cetuximab</td>\n",
       "      <td>Cetuximab is a recombinant chimeric human/mous...</td>\n",
       "      <td>205923-56-4</td>\n",
       "      <td>PQX0D8J21J</td>\n",
       "      <td>liquid</td>\n",
       "      <td>{'group': 'approved'}</td>\n",
       "      <td>...</td>\n",
       "      <td>None</td>\n",
       "      <td>{'target': [{'@position': '1', 'id': 'BE000076...</td>\n",
       "      <td>None</td>\n",
       "      <td>None</td>\n",
       "      <td>None</td>\n",
       "      <td>//s3-us-west-2.amazonaws.com/drugbank/fda_labe...</td>\n",
       "      <td>//s3-us-west-2.amazonaws.com/drugbank/msds/DB0...</td>\n",
       "      <td>NaN</td>\n",
       "      <td>NaN</td>\n",
       "      <td>NaN</td>\n",
       "    </tr>\n",
       "    <tr>\n",
       "      <th>2</th>\n",
       "      <td>biotech</td>\n",
       "      <td>2005-06-13</td>\n",
       "      <td>2024-03-13</td>\n",
       "      <td>[{'@primary': 'true', '#text': 'DB00003'}, BTD...</td>\n",
       "      <td>Dornase alfa</td>\n",
       "      <td>Dornase alfa is a biosynthetic form of human d...</td>\n",
       "      <td>143831-71-4</td>\n",
       "      <td>953A26OA1Y</td>\n",
       "      <td>liquid</td>\n",
       "      <td>{'group': 'approved'}</td>\n",
       "      <td>...</td>\n",
       "      <td>None</td>\n",
       "      <td>{'target': {'@position': '1', 'id': 'BE0004796...</td>\n",
       "      <td>None</td>\n",
       "      <td>None</td>\n",
       "      <td>None</td>\n",
       "      <td>//s3-us-west-2.amazonaws.com/drugbank/fda_labe...</td>\n",
       "      <td>//s3-us-west-2.amazonaws.com/drugbank/msds/DB0...</td>\n",
       "      <td>NaN</td>\n",
       "      <td>NaN</td>\n",
       "      <td>NaN</td>\n",
       "    </tr>\n",
       "    <tr>\n",
       "      <th>3</th>\n",
       "      <td>biotech</td>\n",
       "      <td>2005-06-13</td>\n",
       "      <td>2024-01-02</td>\n",
       "      <td>[{'@primary': 'true', '#text': 'DB00004'}, BTD...</td>\n",
       "      <td>Denileukin diftitox</td>\n",
       "      <td>A recombinant DNA-derived cytotoxic protein co...</td>\n",
       "      <td>173146-27-5</td>\n",
       "      <td>25E79B5CTM</td>\n",
       "      <td>liquid</td>\n",
       "      <td>{'group': ['approved', 'investigational']}</td>\n",
       "      <td>...</td>\n",
       "      <td>None</td>\n",
       "      <td>{'target': [{'@position': '1', 'id': 'BE000065...</td>\n",
       "      <td>None</td>\n",
       "      <td>None</td>\n",
       "      <td>None</td>\n",
       "      <td>//s3-us-west-2.amazonaws.com/drugbank/fda_labe...</td>\n",
       "      <td>NaN</td>\n",
       "      <td>NaN</td>\n",
       "      <td>NaN</td>\n",
       "      <td>NaN</td>\n",
       "    </tr>\n",
       "    <tr>\n",
       "      <th>4</th>\n",
       "      <td>biotech</td>\n",
       "      <td>2005-06-13</td>\n",
       "      <td>2024-02-02</td>\n",
       "      <td>[{'@primary': 'true', '#text': 'DB00005'}, BTD...</td>\n",
       "      <td>Etanercept</td>\n",
       "      <td>Dimeric fusion protein consisting of the extra...</td>\n",
       "      <td>185243-69-0</td>\n",
       "      <td>OP401G7OJC</td>\n",
       "      <td>liquid</td>\n",
       "      <td>{'group': ['approved', 'investigational']}</td>\n",
       "      <td>...</td>\n",
       "      <td>None</td>\n",
       "      <td>{'target': [{'@position': '1', 'id': 'BE000070...</td>\n",
       "      <td>None</td>\n",
       "      <td>None</td>\n",
       "      <td>None</td>\n",
       "      <td>NaN</td>\n",
       "      <td>NaN</td>\n",
       "      <td>NaN</td>\n",
       "      <td>NaN</td>\n",
       "      <td>NaN</td>\n",
       "    </tr>\n",
       "  </tbody>\n",
       "</table>\n",
       "<p>5 rows × 58 columns</p>\n",
       "</div>"
      ],
      "text/plain": [
       "     @type    @created    @updated  \\\n",
       "0  biotech  2005-06-13  2024-01-02   \n",
       "1  biotech  2005-06-13  2024-01-02   \n",
       "2  biotech  2005-06-13  2024-03-13   \n",
       "3  biotech  2005-06-13  2024-01-02   \n",
       "4  biotech  2005-06-13  2024-02-02   \n",
       "\n",
       "                                         drugbank-id                 name  \\\n",
       "0  [{'@primary': 'true', '#text': 'DB00001'}, BTD...            Lepirudin   \n",
       "1  [{'@primary': 'true', '#text': 'DB00002'}, BTD...            Cetuximab   \n",
       "2  [{'@primary': 'true', '#text': 'DB00003'}, BTD...         Dornase alfa   \n",
       "3  [{'@primary': 'true', '#text': 'DB00004'}, BTD...  Denileukin diftitox   \n",
       "4  [{'@primary': 'true', '#text': 'DB00005'}, BTD...           Etanercept   \n",
       "\n",
       "                                         description   cas-number        unii  \\\n",
       "0  Lepirudin is a recombinant hirudin formed by 6...  138068-37-8  Y43GF64R34   \n",
       "1  Cetuximab is a recombinant chimeric human/mous...  205923-56-4  PQX0D8J21J   \n",
       "2  Dornase alfa is a biosynthetic form of human d...  143831-71-4  953A26OA1Y   \n",
       "3  A recombinant DNA-derived cytotoxic protein co...  173146-27-5  25E79B5CTM   \n",
       "4  Dimeric fusion protein consisting of the extra...  185243-69-0  OP401G7OJC   \n",
       "\n",
       "    state                                      groups  ...  \\\n",
       "0   solid        {'group': ['approved', 'withdrawn']}  ...   \n",
       "1  liquid                       {'group': 'approved'}  ...   \n",
       "2  liquid                       {'group': 'approved'}  ...   \n",
       "3  liquid  {'group': ['approved', 'investigational']}  ...   \n",
       "4  liquid  {'group': ['approved', 'investigational']}  ...   \n",
       "\n",
       "  snp-adverse-drug-reactions  \\\n",
       "0                       None   \n",
       "1                       None   \n",
       "2                       None   \n",
       "3                       None   \n",
       "4                       None   \n",
       "\n",
       "                                             targets enzymes carriers  \\\n",
       "0  {'target': {'@position': '1', 'id': 'BE0000048...    None     None   \n",
       "1  {'target': [{'@position': '1', 'id': 'BE000076...    None     None   \n",
       "2  {'target': {'@position': '1', 'id': 'BE0004796...    None     None   \n",
       "3  {'target': [{'@position': '1', 'id': 'BE000065...    None     None   \n",
       "4  {'target': [{'@position': '1', 'id': 'BE000070...    None     None   \n",
       "\n",
       "  transporters                                          fda-label  \\\n",
       "0         None                                                NaN   \n",
       "1         None  //s3-us-west-2.amazonaws.com/drugbank/fda_labe...   \n",
       "2         None  //s3-us-west-2.amazonaws.com/drugbank/fda_labe...   \n",
       "3         None  //s3-us-west-2.amazonaws.com/drugbank/fda_labe...   \n",
       "4         None                                                NaN   \n",
       "\n",
       "                                                msds average-mass  \\\n",
       "0                                                NaN          NaN   \n",
       "1  //s3-us-west-2.amazonaws.com/drugbank/msds/DB0...          NaN   \n",
       "2  //s3-us-west-2.amazonaws.com/drugbank/msds/DB0...          NaN   \n",
       "3                                                NaN          NaN   \n",
       "4                                                NaN          NaN   \n",
       "\n",
       "  monoisotopic-mass calculated-properties  \n",
       "0               NaN                   NaN  \n",
       "1               NaN                   NaN  \n",
       "2               NaN                   NaN  \n",
       "3               NaN                   NaN  \n",
       "4               NaN                   NaN  \n",
       "\n",
       "[5 rows x 58 columns]"
      ]
     },
     "execution_count": 3,
     "metadata": {},
     "output_type": "execute_result"
    }
   ],
   "source": [
    "drug_df.head()"
   ]
  },
  {
   "cell_type": "code",
   "execution_count": 8,
   "id": "33be89eb",
   "metadata": {},
   "outputs": [],
   "source": [
    "# drug_df.to_excel('drug_df.xlsx')"
   ]
  },
  {
   "cell_type": "code",
   "execution_count": 14,
   "id": "0b0e93e6-d83e-4107-a75d-a291f49dd510",
   "metadata": {},
   "outputs": [
    {
     "data": {
      "text/plain": [
       "'Prothrombin'"
      ]
     },
     "execution_count": 14,
     "metadata": {},
     "output_type": "execute_result"
    }
   ],
   "source": [
    "drug_df.iloc[0]['targets']['target']['name']"
   ]
  },
  {
   "cell_type": "code",
   "execution_count": 15,
   "id": "cb2757cb-47e1-41c4-a0a7-c913d35cbaa0",
   "metadata": {},
   "outputs": [],
   "source": [
    "# Assuming your DataFrame is named drug_df\n",
    "\n",
    "def get_target_name(row):\n",
    "  \"\"\"\n",
    "  Extracts the target name from a row in the DataFrame.\n",
    "\n",
    "  Args:\n",
    "    row: A row from the DataFrame.\n",
    "\n",
    "  Returns:\n",
    "    The target name if found, otherwise None.\n",
    "  \"\"\"\n",
    "  try:\n",
    "    return row['targets']['target']['name']\n",
    "  except (KeyError, TypeError):\n",
    "    return None\n",
    "\n",
    "# Create the new column 'target_name'\n",
    "drug_df['target_name'] = drug_df.apply(get_target_name, axis=1) "
   ]
  },
  {
   "cell_type": "code",
   "execution_count": 17,
   "id": "bd2f4321-f270-4732-9532-adccb2d15d6a",
   "metadata": {},
   "outputs": [
    {
     "data": {
      "text/plain": [
       "target_name\n",
       "Gag-Pol polyprotein                                       107\n",
       "Cyclin-dependent kinase 2                                  90\n",
       "Prothrombin                                                71\n",
       "Trypsin-1                                                  66\n",
       "Carbonic anhydrase 2                                       64\n",
       "                                                         ... \n",
       "Dehydrogenase/reductase SDR family member 4-like 2          1\n",
       "Alpha-aminoadipic semialdehyde synthase, mitochondrial      1\n",
       "Pseudoazurin                                                1\n",
       "Single-stranded DNA-binding protein                         1\n",
       "Extended-spectrum beta-lactamase PER-1                      1\n",
       "Name: count, Length: 1524, dtype: int64"
      ]
     },
     "execution_count": 17,
     "metadata": {},
     "output_type": "execute_result"
    }
   ],
   "source": [
    "drug_df.target_name.value_counts()"
   ]
  },
  {
   "cell_type": "code",
   "execution_count": 18,
   "id": "8c839979-31dd-413d-b417-9f77a4cb8b77",
   "metadata": {},
   "outputs": [],
   "source": [
    "drug_df.to_excel('drug_df_with_target-name.xlsx')"
   ]
  },
  {
   "cell_type": "code",
   "execution_count": null,
   "id": "0b94266f-069a-4aa1-b861-87f578a479b7",
   "metadata": {},
   "outputs": [],
   "source": []
  }
 ],
 "metadata": {
  "kernelspec": {
   "display_name": "bracu",
   "language": "python",
   "name": "bracu"
  },
  "language_info": {
   "codemirror_mode": {
    "name": "ipython",
    "version": 3
   },
   "file_extension": ".py",
   "mimetype": "text/x-python",
   "name": "python",
   "nbconvert_exporter": "python",
   "pygments_lexer": "ipython3",
   "version": "3.10.14"
  }
 },
 "nbformat": 4,
 "nbformat_minor": 5
}
